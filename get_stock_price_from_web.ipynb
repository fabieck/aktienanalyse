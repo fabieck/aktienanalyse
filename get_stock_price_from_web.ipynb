{
 "cells": [
  {
   "cell_type": "code",
   "execution_count": 19,
   "metadata": {},
   "outputs": [],
   "source": [
    "from pandas_datareader import data\n",
    "import yfinance as yf\n",
    "import pandas as pd\n",
    "from influxdb import DataFrameClient\n",
    "from pandas_datareader import data\n",
    "import yfinance as yf\n",
    "import time\n",
    "from influxdb import InfluxDBClient\n"
   ]
  },
  {
   "cell_type": "code",
   "execution_count": null,
   "metadata": {},
   "outputs": [],
   "source": [
    "# importing webdriver from selenium \n",
    "from pyvirtualdisplay import Display\n",
    "\n",
    "from selenium import webdriver \n",
    "\n",
    "display = Display(visible=0, size=(800, 600))\n",
    "display.start()\n",
    "\n",
    "\n",
    "\n",
    "# Here Chrome  will be used \n",
    "driver = webdriver.Firefox() \n",
    "  \n",
    "  \n",
    "# URL of website \n",
    "url = \"https://www.finanzen.net/realtimekurs/basf\"\n",
    "  \n",
    "# Opening the website \n",
    "driver.get(url) \n",
    "  "
   ]
  },
  {
   "cell_type": "code",
   "execution_count": 16,
   "metadata": {},
   "outputs": [],
   "source": [
    "# Getting current URL source code \n",
    "def read_price():\n",
    "    get_title = driver.title \n",
    "    price_str = get_title.split()[1]\n",
    "    name = get_title.split()[0]\n",
    "    # Printing the title of this URL \n",
    "    price = float(price_str.replace(',','.'))\n",
    "    return name, price\n"
   ]
  },
  {
   "cell_type": "code",
   "execution_count": 20,
   "metadata": {},
   "outputs": [],
   "source": [
    "# create database and start client\n",
    "client = InfluxDBClient(host='localhost', port=8086)\n",
    "\n",
    "client.create_database(\"dbname1\")"
   ]
  },
  {
   "cell_type": "code",
   "execution_count": 21,
   "metadata": {},
   "outputs": [
    {
     "ename": "KeyboardInterrupt",
     "evalue": "",
     "output_type": "error",
     "traceback": [
      "\u001b[0;31m---------------------------------------------------------------------------\u001b[0m",
      "\u001b[0;31mKeyboardInterrupt\u001b[0m                         Traceback (most recent call last)",
      "\u001b[0;32m<ipython-input-21-fcd27c7960ea>\u001b[0m in \u001b[0;36m<module>\u001b[0;34m\u001b[0m\n\u001b[1;32m     13\u001b[0m     ]\n\u001b[1;32m     14\u001b[0m     \u001b[0mclient\u001b[0m\u001b[0;34m.\u001b[0m\u001b[0mwrite_points\u001b[0m\u001b[0;34m(\u001b[0m\u001b[0mjson_body\u001b[0m\u001b[0;34m,\u001b[0m \u001b[0mdatabase\u001b[0m\u001b[0;34m=\u001b[0m\u001b[0mdbname\u001b[0m\u001b[0;34m)\u001b[0m\u001b[0;34m\u001b[0m\u001b[0;34m\u001b[0m\u001b[0m\n\u001b[0;32m---> 15\u001b[0;31m     \u001b[0mtime\u001b[0m\u001b[0;34m.\u001b[0m\u001b[0msleep\u001b[0m\u001b[0;34m(\u001b[0m\u001b[0;36m60\u001b[0m\u001b[0;34m)\u001b[0m\u001b[0;34m\u001b[0m\u001b[0;34m\u001b[0m\u001b[0m\n\u001b[0m",
      "\u001b[0;31mKeyboardInterrupt\u001b[0m: "
     ]
    }
   ],
   "source": [
    "while(True):\n",
    "    name, price = read_price()\n",
    "    json_body = [\n",
    "        {\n",
    "            \"measurement\": \"share\",\n",
    "            \"tags\": {\n",
    "                \"share\": name,\n",
    "            },\n",
    "            \"fields\": {\n",
    "                \"price\": price\n",
    "            }\n",
    "        }\n",
    "    ]\n",
    "    client.write_points(json_body, database=dbname)\n",
    "    time.sleep(60)\n"
   ]
  },
  {
   "cell_type": "code",
   "execution_count": null,
   "metadata": {},
   "outputs": [],
   "source": []
  }
 ],
 "metadata": {
  "kernelspec": {
   "display_name": "Python 3",
   "language": "python",
   "name": "python3"
  },
  "language_info": {
   "codemirror_mode": {
    "name": "ipython",
    "version": 3
   },
   "file_extension": ".py",
   "mimetype": "text/x-python",
   "name": "python",
   "nbconvert_exporter": "python",
   "pygments_lexer": "ipython3",
   "version": "3.6.9"
  }
 },
 "nbformat": 4,
 "nbformat_minor": 4
}
