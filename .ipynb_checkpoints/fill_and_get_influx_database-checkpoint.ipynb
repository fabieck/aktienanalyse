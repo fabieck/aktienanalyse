{
 "cells": [
  {
   "cell_type": "code",
   "execution_count": 48,
   "metadata": {},
   "outputs": [],
   "source": [
    "from pandas_datareader import data\n",
    "import yfinance as yf\n",
    "import pandas as pd\n",
    "from influxdb import DataFrameClient\n",
    "from pandas_datareader import data\n",
    "import yfinance as yf\n",
    "import time"
   ]
  },
  {
   "cell_type": "code",
   "execution_count": 46,
   "metadata": {},
   "outputs": [],
   "source": [
    "# import csv to get symbol of shares\n",
    "df_dax = pd.read_csv(\"daxtitel.csv\")\n"
   ]
  },
  {
   "cell_type": "code",
   "execution_count": 83,
   "metadata": {},
   "outputs": [
    {
     "name": "stdout",
     "output_type": "stream",
     "text": [
      "Create database: shares\n",
      "Create pandas DataFrame\n",
      "SAP.DE\n",
      "[*********************100%***********************]  1 of 1 completed\n",
      "Write DataFrame\n"
     ]
    }
   ],
   "source": [
    "# insert all databases\n",
    "def fill_database(df, symbol, dbname):\n",
    "    \"\"\"Instantiate the connection to the InfluxDB client.\"\"\"\n",
    "\n",
    "\n",
    "\n",
    "\n",
    "\n",
    "    print(\"Write DataFrame\")\n",
    "    client.write_points(df, symbol, protocol=protocol)\n",
    "\n",
    "    #print(\"Read DataFrame\")\n",
    "    #result = client.query(\"select * from demo\")\n",
    "    #print(result)\n",
    "    #print(\"Delete database: \" + dbname)\n",
    "    #client.drop_database(dbname)\n",
    "\n",
    "# iterate over all shares in csv\n",
    "for i in range(0,1):\n",
    "    host='localhost'\n",
    "    port=8086\n",
    "    user = 'root'\n",
    "    password = 'root'\n",
    "    dbname = \"shares\"\n",
    "    protocol = 'line'\n",
    "    client = DataFrameClient(host, port, user, password, dbname)\n",
    "    print(\"Create database: \" + dbname)\n",
    "    client.create_database(dbname)\n",
    "    print(\"Create pandas DataFrame\")\n",
    "    symbol = df_dax[\"Symbols\"].iloc[i]\n",
    "    print(symbol)\n",
    "    yf.pdr_override()\n",
    "    data_source='google'\n",
    "    start_date = '1995-01-01'\n",
    "    end_date = '2020-07-09'\n",
    "    df = data.get_data_yahoo(symbol, start_date, end_date)\n",
    "    fill_database(df, symbol, dbname)"
   ]
  },
  {
   "cell_type": "code",
   "execution_count": 107,
   "metadata": {},
   "outputs": [],
   "source": [
    "# get data form database \n",
    "host='localhost'\n",
    "port=8086\n",
    "user = 'root'\n",
    "password = 'root'\n",
    "dbname = \"shares\"\n",
    "protocol = 'line'\n",
    "client = DataFrameClient(host, port, user, password, dbname)\n",
    "result = client.query('SELECT Close  FROM \"shares\".\"autogen\".\"SAP.DE\"')"
   ]
  },
  {
   "cell_type": "code",
   "execution_count": 142,
   "metadata": {},
   "outputs": [],
   "source": [
    "fields = ['Close']\n",
    "symbol = 'SAP.DE'\n",
    "df = pd.DataFrame()\n",
    "for field in fields:\n",
    "    df = pd.DataFrame(result[symbol]['Close'], columns = ['Close'])  # check above definition of d\n",
    "df.name = symbol"
   ]
  },
  {
   "cell_type": "code",
   "execution_count": null,
   "metadata": {},
   "outputs": [],
   "source": []
  },
  {
   "cell_type": "code",
   "execution_count": null,
   "metadata": {},
   "outputs": [],
   "source": []
  },
  {
   "cell_type": "code",
   "execution_count": null,
   "metadata": {},
   "outputs": [],
   "source": []
  }
 ],
 "metadata": {
  "kernelspec": {
   "display_name": "Python 3",
   "language": "python",
   "name": "python3"
  },
  "language_info": {
   "codemirror_mode": {
    "name": "ipython",
    "version": 3
   },
   "file_extension": ".py",
   "mimetype": "text/x-python",
   "name": "python",
   "nbconvert_exporter": "python",
   "pygments_lexer": "ipython3",
   "version": "3.6.9"
  }
 },
 "nbformat": 4,
 "nbformat_minor": 4
}
